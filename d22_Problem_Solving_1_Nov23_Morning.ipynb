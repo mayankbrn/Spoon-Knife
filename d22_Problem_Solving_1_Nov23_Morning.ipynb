{
  "nbformat": 4,
  "nbformat_minor": 0,
  "metadata": {
    "colab": {
      "provenance": [],
      "include_colab_link": true
    },
    "kernelspec": {
      "name": "python3",
      "display_name": "Python 3"
    },
    "language_info": {
      "name": "python"
    }
  },
  "cells": [
    {
      "cell_type": "markdown",
      "metadata": {
        "id": "view-in-github",
        "colab_type": "text"
      },
      "source": [
        "<a href=\"https://colab.research.google.com/github/mayankbrn/Spoon-Knife/blob/main/d22_Problem_Solving_1_Nov23_Morning.ipynb\" target=\"_parent\"><img src=\"https://colab.research.google.com/assets/colab-badge.svg\" alt=\"Open In Colab\"/></a>"
      ]
    },
    {
      "cell_type": "code",
      "execution_count": null,
      "metadata": {
        "id": "zzgIXoOMi4Au"
      },
      "outputs": [],
      "source": [
        "# SHORT CIRCUITING"
      ]
    },
    {
      "cell_type": "code",
      "source": [
        "0 and 5"
      ],
      "metadata": {
        "colab": {
          "base_uri": "https://localhost:8080/"
        },
        "id": "nflXgiNql_He",
        "outputId": "8023444a-5967-4ece-c420-79a72426a0bf"
      },
      "execution_count": null,
      "outputs": [
        {
          "output_type": "execute_result",
          "data": {
            "text/plain": [
              "0"
            ]
          },
          "metadata": {},
          "execution_count": 3
        }
      ]
    },
    {
      "cell_type": "code",
      "source": [
        "1 and 5"
      ],
      "metadata": {
        "colab": {
          "base_uri": "https://localhost:8080/"
        },
        "id": "Gi_eBtjflSl7",
        "outputId": "18f1080f-69a6-4e66-e580-47dd7339d22d"
      },
      "execution_count": null,
      "outputs": [
        {
          "output_type": "execute_result",
          "data": {
            "text/plain": [
              "5"
            ]
          },
          "metadata": {},
          "execution_count": 2
        }
      ]
    },
    {
      "cell_type": "code",
      "source": [
        "5 and \"random\""
      ],
      "metadata": {
        "colab": {
          "base_uri": "https://localhost:8080/",
          "height": 35
        },
        "id": "p6Oysv95lvVl",
        "outputId": "16db9d95-2c9e-4d60-83e8-85558bcf8c8c"
      },
      "execution_count": null,
      "outputs": [
        {
          "output_type": "execute_result",
          "data": {
            "text/plain": [
              "'random'"
            ],
            "application/vnd.google.colaboratory.intrinsic+json": {
              "type": "string"
            }
          },
          "metadata": {},
          "execution_count": 4
        }
      ]
    },
    {
      "cell_type": "code",
      "source": [
        "5 and False"
      ],
      "metadata": {
        "colab": {
          "base_uri": "https://localhost:8080/"
        },
        "id": "8PXeOr8soFV7",
        "outputId": "2a611e77-6b7f-4771-9b3d-8587775932e8"
      },
      "execution_count": null,
      "outputs": [
        {
          "output_type": "execute_result",
          "data": {
            "text/plain": [
              "False"
            ]
          },
          "metadata": {},
          "execution_count": 5
        }
      ]
    },
    {
      "cell_type": "code",
      "source": [
        "# In case of \"or\", no need to look at the second value in case the first is Truthy\n",
        "1 or 0"
      ],
      "metadata": {
        "colab": {
          "base_uri": "https://localhost:8080/"
        },
        "id": "P_0b8eSJoHR_",
        "outputId": "19803f51-d70d-44c5-da3a-971c1e6ffd81"
      },
      "execution_count": null,
      "outputs": [
        {
          "output_type": "execute_result",
          "data": {
            "text/plain": [
              "1"
            ]
          },
          "metadata": {},
          "execution_count": 6
        }
      ]
    },
    {
      "cell_type": "code",
      "source": [
        "1 or \"random\""
      ],
      "metadata": {
        "colab": {
          "base_uri": "https://localhost:8080/"
        },
        "id": "qteociqSoYLo",
        "outputId": "38da14ba-8dbc-44ed-90a5-ffb904c1dac8"
      },
      "execution_count": null,
      "outputs": [
        {
          "output_type": "execute_result",
          "data": {
            "text/plain": [
              "1"
            ]
          },
          "metadata": {},
          "execution_count": 10
        }
      ]
    },
    {
      "cell_type": "code",
      "source": [
        "None or \"random\""
      ],
      "metadata": {
        "colab": {
          "base_uri": "https://localhost:8080/",
          "height": 35
        },
        "id": "PeV_a4rEocpl",
        "outputId": "a95b9360-45f1-456d-aaf7-a75a3e7a1a63"
      },
      "execution_count": null,
      "outputs": [
        {
          "output_type": "execute_result",
          "data": {
            "text/plain": [
              "'random'"
            ],
            "application/vnd.google.colaboratory.intrinsic+json": {
              "type": "string"
            }
          },
          "metadata": {},
          "execution_count": 11
        }
      ]
    },
    {
      "cell_type": "markdown",
      "source": [
        "- `Map` -> Maps each value to a new value.\n",
        "  - The length of the resultant list will be the same as the input list.\n",
        "- `Filter` -> Filtered list of values on the basis of a condition.\n",
        "  - The length of the resultant list will be <= length of the input list.\n",
        "- `Reduce` -> Reduce a list of values to a single value using a two operand reduction function.\n",
        "  - The result is not a list but a single value"
      ],
      "metadata": {
        "id": "aOjp4ZNzq9hs"
      }
    },
    {
      "cell_type": "code",
      "source": [
        "a = [10, 40, 30, 20, 50]"
      ],
      "metadata": {
        "id": "39p55Xw6q9CU"
      },
      "execution_count": null,
      "outputs": []
    },
    {
      "cell_type": "code",
      "source": [
        "from functools import reduce"
      ],
      "metadata": {
        "id": "Oh5u5NWvogh2"
      },
      "execution_count": null,
      "outputs": []
    },
    {
      "cell_type": "code",
      "source": [
        "reduce(lambda x, y: x if x > y else y, a)"
      ],
      "metadata": {
        "colab": {
          "base_uri": "https://localhost:8080/"
        },
        "id": "UO2kFvuArsRt",
        "outputId": "6ffdd654-bc6c-4418-f1f3-4089b6458eab"
      },
      "execution_count": null,
      "outputs": [
        {
          "output_type": "execute_result",
          "data": {
            "text/plain": [
              "50"
            ]
          },
          "metadata": {},
          "execution_count": 14
        }
      ]
    },
    {
      "cell_type": "code",
      "source": [
        "a = [\n",
        "    [10, 40, 30, 20, 50],\n",
        "    [30, 20, 60, 10, 0],\n",
        "    [50, 90, 70, 100, 20],\n",
        "    [60, 70, 80, 10, 30]\n",
        "]\n",
        "\n",
        "result = [50, 60, 100, 80]"
      ],
      "metadata": {
        "id": "95D0zdoFsKpc"
      },
      "execution_count": null,
      "outputs": []
    },
    {
      "cell_type": "code",
      "source": [
        "result = list(map(lambda l: reduce(lambda x, y: x if x > y else y, l), a))"
      ],
      "metadata": {
        "id": "_uIQvpRQslDE"
      },
      "execution_count": null,
      "outputs": []
    },
    {
      "cell_type": "code",
      "source": [
        "result"
      ],
      "metadata": {
        "colab": {
          "base_uri": "https://localhost:8080/"
        },
        "id": "0IoK8PgTtEq-",
        "outputId": "1942bf6e-90ff-48c0-d0a0-3e2ffa3a36f8"
      },
      "execution_count": null,
      "outputs": [
        {
          "output_type": "execute_result",
          "data": {
            "text/plain": [
              "[50, 60, 100, 80]"
            ]
          },
          "metadata": {},
          "execution_count": 17
        }
      ]
    },
    {
      "cell_type": "code",
      "source": [
        "print(\"Before Try Except\")\n",
        "\n",
        "try:\n",
        "  # If there is an error here, go to except otherwise end after the try block\n",
        "  print(\"Try -\", end = \" \")\n",
        "  1 / 0\n",
        "  print(\"No Error Occured so Except gets skipped!\")\n",
        "except:\n",
        "  print(\"Except\")\n",
        "\n",
        "print(\"After Try Except\")"
      ],
      "metadata": {
        "colab": {
          "base_uri": "https://localhost:8080/"
        },
        "id": "GjhJOA0RtFZ4",
        "outputId": "e5faba88-5160-4200-cfb7-7a86a4f3dbe4"
      },
      "execution_count": null,
      "outputs": [
        {
          "output_type": "stream",
          "name": "stdout",
          "text": [
            "Before Try Except\n",
            "Try - Except\n",
            "After Try Except\n"
          ]
        }
      ]
    },
    {
      "cell_type": "code",
      "source": [
        "a = [1, 2, 3, 4, 5]\n",
        "\n",
        "# Generate a list of the squares of all the numbers in the given list."
      ],
      "metadata": {
        "id": "Y8CfBDMi17C3"
      },
      "execution_count": null,
      "outputs": []
    },
    {
      "cell_type": "code",
      "source": [
        "# METHOD 1\n",
        "\n",
        "result = []\n",
        "\n",
        "for i in a:\n",
        "  result.append(i ** 2)\n",
        "\n",
        "print(result)"
      ],
      "metadata": {
        "colab": {
          "base_uri": "https://localhost:8080/"
        },
        "id": "V0xenMtW2Dpa",
        "outputId": "553f6af2-802e-4e1d-ff36-a785bd813bc7"
      },
      "execution_count": null,
      "outputs": [
        {
          "output_type": "stream",
          "name": "stdout",
          "text": [
            "[1, 4, 9, 16, 25]\n"
          ]
        }
      ]
    },
    {
      "cell_type": "code",
      "source": [
        "# METHOD 2\n",
        "\n",
        "result2 = [ i ** 2 for i in a ]\n",
        "\n",
        "print(result2)"
      ],
      "metadata": {
        "colab": {
          "base_uri": "https://localhost:8080/"
        },
        "id": "pQD_mcPA2DdT",
        "outputId": "05e0db48-749f-42bd-e3d0-605383526077"
      },
      "execution_count": null,
      "outputs": [
        {
          "output_type": "stream",
          "name": "stdout",
          "text": [
            "[1, 4, 9, 16, 25]\n"
          ]
        }
      ]
    },
    {
      "cell_type": "code",
      "source": [
        "def function(arr):\n",
        "  n = len(arr) # 5\n",
        "  hash = [[0 for _ in range(n)] for _ in range(n)]\n",
        "\n",
        "  for i in range(n):\n",
        "    for j in range(n):\n",
        "      hash[i][j] = arr[i]*2\n",
        "\n",
        "  return sum([sum(i) for i in hash])\n",
        "\n",
        "function([1,2,3,4,5])"
      ],
      "metadata": {
        "id": "aToL3cqt07d8"
      },
      "execution_count": null,
      "outputs": []
    }
  ]
}